{
 "cells": [
  {
   "cell_type": "code",
   "execution_count": 1,
   "id": "576a0a4f",
   "metadata": {},
   "outputs": [
    {
     "name": "stdout",
     "output_type": "stream",
     "text": [
      "This is simple function\n"
     ]
    }
   ],
   "source": [
    "def myfun():\n",
    "    print(\"This is simple function\")\n",
    "myfun()    \n",
    "    "
   ]
  },
  {
   "cell_type": "code",
   "execution_count": 10,
   "id": "21f28c88",
   "metadata": {},
   "outputs": [
    {
     "name": "stdout",
     "output_type": "stream",
     "text": [
      "Enter number is 4, 3\n"
     ]
    }
   ],
   "source": [
    "def myfunction(num1, num2):\n",
    "    print(f\"Enter number is {num1}, {num2}\")\n",
    "myfunction(4,3)    "
   ]
  },
  {
   "cell_type": "code",
   "execution_count": 11,
   "id": "77ba014e",
   "metadata": {},
   "outputs": [
    {
     "data": {
      "text/plain": [
       "'This is my String'"
      ]
     },
     "execution_count": 11,
     "metadata": {},
     "output_type": "execute_result"
    }
   ],
   "source": [
    "def mystring():\n",
    "    return \"This is my String\"\n",
    "val = mystring()\n",
    "val"
   ]
  },
  {
   "cell_type": "code",
   "execution_count": 12,
   "id": "90d16370",
   "metadata": {},
   "outputs": [
    {
     "data": {
      "text/plain": [
       "10"
      ]
     },
     "execution_count": 12,
     "metadata": {},
     "output_type": "execute_result"
    }
   ],
   "source": [
    "def addition(num1, num2):\n",
    "    return num1 + num2\n",
    "addition(5, 5)"
   ]
  }
 ],
 "metadata": {
  "kernelspec": {
   "display_name": "Python 3 (ipykernel)",
   "language": "python",
   "name": "python3"
  },
  "language_info": {
   "codemirror_mode": {
    "name": "ipython",
    "version": 3
   },
   "file_extension": ".py",
   "mimetype": "text/x-python",
   "name": "python",
   "nbconvert_exporter": "python",
   "pygments_lexer": "ipython3",
   "version": "3.9.7"
  }
 },
 "nbformat": 4,
 "nbformat_minor": 5
}
