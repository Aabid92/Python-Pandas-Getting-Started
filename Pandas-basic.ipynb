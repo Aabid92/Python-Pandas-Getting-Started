{
 "cells": [
  {
   "cell_type": "code",
   "execution_count": 4,
   "id": "f913dc33",
   "metadata": {},
   "outputs": [],
   "source": [
    "import pandas as pd\n",
    "import numpy as np"
   ]
  },
  {
   "cell_type": "code",
   "execution_count": 3,
   "id": "59d98c18",
   "metadata": {},
   "outputs": [
    {
     "data": {
      "text/plain": [
       "Series([], dtype: object)"
      ]
     },
     "execution_count": 3,
     "metadata": {},
     "output_type": "execute_result"
    }
   ],
   "source": [
    "my_series = pd.Series()\n",
    "my_series"
   ]
  },
  {
   "cell_type": "code",
   "execution_count": 8,
   "id": "e6dd8cf4",
   "metadata": {},
   "outputs": [
    {
     "name": "stdout",
     "output_type": "stream",
     "text": [
      "[10 20 30 40 50]\n",
      "0    10\n",
      "1    20\n",
      "2    30\n",
      "3    40\n",
      "4    50\n",
      "dtype: int32\n"
     ]
    }
   ],
   "source": [
    "my_array = np.array([10, 20, 30, 40, 50])\n",
    "print(my_array)\n",
    "my_series = pd.Series(my_array)\n",
    "print(my_series)"
   ]
  },
  {
   "cell_type": "code",
   "execution_count": 13,
   "id": "1ea8316e",
   "metadata": {},
   "outputs": [
    {
     "data": {
      "text/plain": [
       "num1    10\n",
       "num2    20\n",
       "num3    30\n",
       "num4    40\n",
       "num5    50\n",
       "dtype: int32"
      ]
     },
     "execution_count": 13,
     "metadata": {},
     "output_type": "execute_result"
    }
   ],
   "source": [
    "my_series = pd.Series(my_array, index = [\"num1\", \"num2\", \"num3\", \"num4\", \"num5\"])\n",
    "my_series"
   ]
  },
  {
   "cell_type": "code",
   "execution_count": 15,
   "id": "75eae3c3",
   "metadata": {},
   "outputs": [
    {
     "data": {
      "text/plain": [
       "num1,    10\n",
       "num2     20\n",
       "num3     30\n",
       "num4     40\n",
       "num5     50\n",
       "dtype: int64"
      ]
     },
     "execution_count": 15,
     "metadata": {},
     "output_type": "execute_result"
    }
   ],
   "source": [
    "my_series = pd.Series([10, 20, 30, 40, 50], index = [\"num1,\", \"num2\", \"num3\", \"num4\", \"num5\"])\n",
    "my_series"
   ]
  },
  {
   "cell_type": "code",
   "execution_count": 17,
   "id": "7690ae02",
   "metadata": {},
   "outputs": [
    {
     "data": {
      "text/plain": [
       "num1,    25\n",
       "num2     25\n",
       "num3     25\n",
       "num4     25\n",
       "num5     25\n",
       "dtype: int64"
      ]
     },
     "execution_count": 17,
     "metadata": {},
     "output_type": "execute_result"
    }
   ],
   "source": [
    "my_series = pd.Series(25, index = [\"num1,\", \"num2\", \"num3\", \"num4\", \"num5\"])\n",
    "my_series"
   ]
  },
  {
   "cell_type": "code",
   "execution_count": 19,
   "id": "0c381687",
   "metadata": {},
   "outputs": [
    {
     "name": "stdout",
     "output_type": "stream",
     "text": [
      "num1    6\n",
      "num2    7\n",
      "num3    8\n",
      "dtype: int64\n"
     ]
    }
   ],
   "source": [
    "# Series using dictionary\n",
    "my_dict = {'num1': 6,\n",
    "          'num2': 7,\n",
    "          'num3': 8}\n",
    "\n",
    "my_series = pd.Series(my_dict)\n",
    "print(my_series)"
   ]
  },
  {
   "cell_type": "code",
   "execution_count": 30,
   "id": "bd2a376e",
   "metadata": {},
   "outputs": [
    {
     "name": "stdout",
     "output_type": "stream",
     "text": [
      "20\n",
      "30\n"
     ]
    }
   ],
   "source": [
    "# Using operator on Pandas Series\n",
    "my_series = pd.Series([10, 20, 30, 40, 50], index = [\"num1,\", \"num2\", \"num3\", \"num4\", \"num5\"])\n",
    "print(my_series[1])\n",
    "print(my_series[\"num3\"])\n"
   ]
  },
  {
   "cell_type": "code",
   "execution_count": 35,
   "id": "db3ac1b7",
   "metadata": {},
   "outputs": [
    {
     "name": "stdout",
     "output_type": "stream",
     "text": [
      "2\n",
      "8\n"
     ]
    }
   ],
   "source": [
    "my_series = pd.Series([5, 4, 2, 6, 7, 8])\n",
    "print(np.min(my_series))\n",
    "print(np.max(my_series))"
   ]
  },
  {
   "cell_type": "code",
   "execution_count": 39,
   "id": "5d8cd5c7",
   "metadata": {},
   "outputs": [
    {
     "name": "stdout",
     "output_type": "stream",
     "text": [
      "5.333333333333333\n",
      "5.5\n"
     ]
    }
   ],
   "source": [
    "#using Numpy \n",
    "print(np.mean(my_series))\n",
    "print(np.median(my_series))"
   ]
  },
  {
   "cell_type": "code",
   "execution_count": 41,
   "id": "b11f3460",
   "metadata": {},
   "outputs": [
    {
     "name": "stdout",
     "output_type": "stream",
     "text": [
      "5.333333333333333\n",
      "5.5\n"
     ]
    }
   ],
   "source": [
    "#using Pandas\n",
    "print(my_series.mean())\n",
    "print(my_series.median())"
   ]
  },
  {
   "cell_type": "code",
   "execution_count": 42,
   "id": "1a696429",
   "metadata": {},
   "outputs": [
    {
     "name": "stdout",
     "output_type": "stream",
     "text": [
      "int64\n"
     ]
    }
   ],
   "source": [
    "# find data types of Pandas series\n",
    "print(my_series.dtype)"
   ]
  },
  {
   "cell_type": "code",
   "execution_count": 43,
   "id": "d39b8cb5",
   "metadata": {},
   "outputs": [
    {
     "data": {
      "text/plain": [
       "[5, 4, 2, 6, 7, 8]"
      ]
     },
     "execution_count": 43,
     "metadata": {},
     "output_type": "execute_result"
    }
   ],
   "source": [
    "# convert Pandas series to Python list with tolist()\n",
    "\n",
    "my_list = my_series.tolist()\n",
    "my_list"
   ]
  },
  {
   "cell_type": "code",
   "execution_count": null,
   "id": "51e74804",
   "metadata": {},
   "outputs": [],
   "source": []
  }
 ],
 "metadata": {
  "kernelspec": {
   "display_name": "Python 3 (ipykernel)",
   "language": "python",
   "name": "python3"
  },
  "language_info": {
   "codemirror_mode": {
    "name": "ipython",
    "version": 3
   },
   "file_extension": ".py",
   "mimetype": "text/x-python",
   "name": "python",
   "nbconvert_exporter": "python",
   "pygments_lexer": "ipython3",
   "version": "3.9.7"
  }
 },
 "nbformat": 4,
 "nbformat_minor": 5
}
