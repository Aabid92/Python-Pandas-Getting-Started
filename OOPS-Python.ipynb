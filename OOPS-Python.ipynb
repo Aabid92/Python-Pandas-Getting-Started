{
 "cells": [
  {
   "cell_type": "code",
   "execution_count": 9,
   "id": "7cd514e9",
   "metadata": {},
   "outputs": [
    {
     "name": "stdout",
     "output_type": "stream",
     "text": [
      "fruit has been eaten\n",
      "fruit name is apple\n",
      "and price is 10\n"
     ]
    }
   ],
   "source": [
    "class fruit():\n",
    "    name = \"apple\"\n",
    "    price = 10\n",
    "    \n",
    "    def eat_fruit(self):\n",
    "        print(\"fruit has been eaten\")\n",
    "        \n",
    "f = fruit()\n",
    "f.eat_fruit()\n",
    "print(f\"fruit name is {f.name}\")\n",
    "print(f\"and price is {f.price}\")"
   ]
  },
  {
   "cell_type": "code",
   "execution_count": 15,
   "id": "e1b8baeb",
   "metadata": {},
   "outputs": [
    {
     "name": "stdout",
     "output_type": "stream",
     "text": [
      "fruit has been eat\n",
      "mango\n",
      "23\n"
     ]
    }
   ],
   "source": [
    "class fruit:\n",
    "    name = \"apple\"\n",
    "    price = 10\n",
    "    \n",
    "    def __init__(self, fruit_name, fruit_price):\n",
    "        fruit.name = fruit_name\n",
    "        fruit.price = fruit_price\n",
    "        \n",
    "    def eat_fruit(self):\n",
    "        print(\"fruit has been eat\")\n",
    "\n",
    "f = fruit(\"mango\", 23)\n",
    "f.eat_fruit()\n",
    "print(f.name)\n",
    "print(f.price)"
   ]
  },
  {
   "cell_type": "code",
   "execution_count": null,
   "id": "4bb62fd6",
   "metadata": {},
   "outputs": [],
   "source": []
  }
 ],
 "metadata": {
  "kernelspec": {
   "display_name": "Python 3 (ipykernel)",
   "language": "python",
   "name": "python3"
  },
  "language_info": {
   "codemirror_mode": {
    "name": "ipython",
    "version": 3
   },
   "file_extension": ".py",
   "mimetype": "text/x-python",
   "name": "python",
   "nbconvert_exporter": "python",
   "pygments_lexer": "ipython3",
   "version": "3.9.7"
  }
 },
 "nbformat": 4,
 "nbformat_minor": 5
}
